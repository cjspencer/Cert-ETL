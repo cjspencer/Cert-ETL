{
 "cells": [
  {
   "cell_type": "code",
   "execution_count": 1,
   "metadata": {
    "collapsed": true
   },
   "outputs": [],
   "source": [
    "import csv\n",
    "import itertools"
   ]
  },
  {
   "cell_type": "code",
   "execution_count": 134,
   "metadata": {
    "collapsed": false,
    "scrolled": false
   },
   "outputs": [],
   "source": [
    "sample_id = []\n",
    "weight = []\n",
    "unit_of_measure = []\n",
    "elements = []\n",
    "digestion = []\n",
    "method = []\n",
    "l_dl = []\n",
    "u_dl = []\n",
    "batch_size = []\n",
    "\n",
    "cert = #Path\n",
    "\n",
    "with open(cert) as f:\n",
    "# f = open(Path)\n",
    "    csv_f = csv.reader(f)\n",
    "    rows =list(csv_f)\n",
    "# for row in rows:\n",
    "#     print rows[17]\n",
    "\n",
    "#sample_id\n",
    "#print [item[0] for item in rows[18:]]\n",
    "sample_id.append([item[0] for item in rows[18:]])\n",
    "#print sample_id\n",
    "\n",
    "#weight\n",
    "# print rows[9][3:]\n",
    "for i in rows[9][3:]:\n",
    "    weight.extend(i)\n",
    "\n",
    "# #unit_of_measure\n",
    "# # print rows[13][3:]\n",
    "unit_of_measure.append(rows[13][3:])\n",
    "    \n",
    "# # elements\n",
    "# # #print rows[17][3:]\n",
    "elements.append(rows[17][3:])\n",
    "\n",
    "# #digestion\n",
    "# # print rows[11][3:]\n",
    "digestion.append(rows[11][3:])\n",
    "\n",
    "# #method\n",
    "# # print rows[12][3:]\n",
    "method.append(rows[12][3:])\n",
    "\n",
    "# #l_dl\n",
    "# # print rows[14][3:]\n",
    "l_dl.append(rows[14][3:])\n",
    "\n",
    "# #u_dl\n",
    "# # print rows[15][3:]\n",
    "u_dl.append(rows[15][3:])\n",
    "\n",
    "# #batch_size\n",
    "# # print rows[16][3:]\n",
    "batch_size.append(rows[16][3:])\n",
    "\n",
    "#Zip two lists ->\n",
    "#[(x,y) for x in rows[19] for y in rows[18]] "
   ]
  },
  {
   "cell_type": "code",
   "execution_count": 135,
   "metadata": {
    "collapsed": false,
    "scrolled": false
   },
   "outputs": [
    {
     "name": "stdout",
     "output_type": "stream",
     "text": [
      "['3', '0', '0', '.', '2', '5', '0', '.', '2', '5', '0', '.', '2', '5', '0', '.', '2', '5', '0', '.', '2', '5', '0', '.', '2', '5', '0', '.', '2', '5', '0', '.', '2', '5', '0', '.', '2', '5', '0', '.', '2', '5', '0', '.', '2', '5', '0', '.', '2', '5', '0', '.', '2', '5', '0', '.', '2', '5', '0', '.', '2', '5', '0', '.', '2', '5', '0', '.', '2', '5', '0', '.', '2', '5', '0', '.', '2', '5', '0', '.', '2', '5', '0', '.', '2', '5', '0', '.', '2', '5', '0', '.', '2', '5', '0', '.', '2', '5', '0', '.', '2', '5', '0', '.', '2', '5', '0', '.', '2', '5', '0', '.', '2', '5', '0', '.', '2', '5', '0', '.', '2', '5', '0', '.', '2', '5', '0', '.', '2', '5', '0', '.', '2', '5', '0', '.', '4']\n"
     ]
    }
   ],
   "source": [
    "print weight"
   ]
  },
  {
   "cell_type": "code",
   "execution_count": null,
   "metadata": {
    "collapsed": false
   },
   "outputs": [],
   "source": [
    "\n"
   ]
  },
  {
   "cell_type": "code",
   "execution_count": null,
   "metadata": {
    "collapsed": false
   },
   "outputs": [],
   "source": []
  },
  {
   "cell_type": "code",
   "execution_count": null,
   "metadata": {
    "collapsed": false
   },
   "outputs": [],
   "source": []
  },
  {
   "cell_type": "code",
   "execution_count": null,
   "metadata": {
    "collapsed": false
   },
   "outputs": [],
   "source": []
  },
  {
   "cell_type": "code",
   "execution_count": null,
   "metadata": {
    "collapsed": false
   },
   "outputs": [],
   "source": []
  },
  {
   "cell_type": "code",
   "execution_count": null,
   "metadata": {
    "collapsed": true
   },
   "outputs": [],
   "source": []
  }
 ],
 "metadata": {
  "kernelspec": {
   "display_name": "Python 2",
   "language": "python",
   "name": "python2"
  },
  "language_info": {
   "codemirror_mode": {
    "name": "ipython",
    "version": 2
   },
   "file_extension": ".py",
   "mimetype": "text/x-python",
   "name": "python",
   "nbconvert_exporter": "python",
   "pygments_lexer": "ipython2",
   "version": "2.7.13"
  }
 },
 "nbformat": 4,
 "nbformat_minor": 0
}
